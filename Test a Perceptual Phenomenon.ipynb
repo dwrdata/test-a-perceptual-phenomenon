{
 "cells": [
  {
   "cell_type": "markdown",
   "id": "aae05c82",
   "metadata": {},
   "source": [
    "# Test a Perceptual Phenomenon\n",
    "#### Submission by Dylan Rose\n",
    "***"
   ]
  },
  {
   "cell_type": "code",
   "execution_count": 1,
   "id": "504b07f4",
   "metadata": {},
   "outputs": [
    {
     "data": {
      "text/html": [
       "<div>\n",
       "<style scoped>\n",
       "    .dataframe tbody tr th:only-of-type {\n",
       "        vertical-align: middle;\n",
       "    }\n",
       "\n",
       "    .dataframe tbody tr th {\n",
       "        vertical-align: top;\n",
       "    }\n",
       "\n",
       "    .dataframe thead th {\n",
       "        text-align: right;\n",
       "    }\n",
       "</style>\n",
       "<table border=\"1\" class=\"dataframe\">\n",
       "  <thead>\n",
       "    <tr style=\"text-align: right;\">\n",
       "      <th></th>\n",
       "      <th>Congruent</th>\n",
       "      <th>Incongruent</th>\n",
       "    </tr>\n",
       "  </thead>\n",
       "  <tbody>\n",
       "    <tr>\n",
       "      <th>count</th>\n",
       "      <td>24.000000</td>\n",
       "      <td>24.000000</td>\n",
       "    </tr>\n",
       "    <tr>\n",
       "      <th>mean</th>\n",
       "      <td>14.051125</td>\n",
       "      <td>22.015917</td>\n",
       "    </tr>\n",
       "    <tr>\n",
       "      <th>std</th>\n",
       "      <td>3.559358</td>\n",
       "      <td>4.797057</td>\n",
       "    </tr>\n",
       "    <tr>\n",
       "      <th>min</th>\n",
       "      <td>8.630000</td>\n",
       "      <td>15.687000</td>\n",
       "    </tr>\n",
       "    <tr>\n",
       "      <th>25%</th>\n",
       "      <td>11.895250</td>\n",
       "      <td>18.716750</td>\n",
       "    </tr>\n",
       "    <tr>\n",
       "      <th>50%</th>\n",
       "      <td>14.356500</td>\n",
       "      <td>21.017500</td>\n",
       "    </tr>\n",
       "    <tr>\n",
       "      <th>75%</th>\n",
       "      <td>16.200750</td>\n",
       "      <td>24.051500</td>\n",
       "    </tr>\n",
       "    <tr>\n",
       "      <th>max</th>\n",
       "      <td>22.328000</td>\n",
       "      <td>35.255000</td>\n",
       "    </tr>\n",
       "  </tbody>\n",
       "</table>\n",
       "</div>"
      ],
      "text/plain": [
       "       Congruent  Incongruent\n",
       "count  24.000000    24.000000\n",
       "mean   14.051125    22.015917\n",
       "std     3.559358     4.797057\n",
       "min     8.630000    15.687000\n",
       "25%    11.895250    18.716750\n",
       "50%    14.356500    21.017500\n",
       "75%    16.200750    24.051500\n",
       "max    22.328000    35.255000"
      ]
     },
     "execution_count": 1,
     "metadata": {},
     "output_type": "execute_result"
    }
   ],
   "source": [
    "import numpy as np\n",
    "import pandas as pd\n",
    "import matplotlib.pyplot as plt\n",
    "\n",
    "%matplotlib inline\n",
    "\n",
    "df = pd.read_csv('stroopdata.csv')\n",
    "df.describe()"
   ]
  },
  {
   "cell_type": "markdown",
   "id": "15640535",
   "metadata": {},
   "source": [
    "\n",
    "\n",
    "<font color='darkgreen'>1. \"What is our independent variable? What is our dependent variable?\"</font>\n",
    "\n",
    ">In a Stroop task, our __independent variable__ is the congruence of the words. Our __dependent variable__ is the time it takes to name the ink colors.\n",
    "\n",
    "<font color='darkgreen'>2. \"What is an appropriate set of hypotheses for this task? What kind of statistical test do you expect to perform? Justify your choices.\"</font>\n",
    "\n",
    ">We can either have a __null hypothesis__ ($H_0$) or an __alternative hypothesis__ ($H_a$).\n",
    "\n",
    ">__Null hypothesis__:  The sample mean is found outside of the critical region. In other words, we do not find a significant difference between the current population parameters and the population parameters after performing an intervention. \n",
    "\n",
    "$$ \\mu = \\mu_I$$\n",
    "\n",
    ">_In our circumstance, the __null hypothesis__ would be that the congruence of the words does not affect the time taken to name the ink colors._\n",
    "\n",
    ">__Alternative hypothesis__: The sample mean is found inside of the critical region. In other words, we find a significant difference between the current population parameters and the population paramters after performing an intervention.\n",
    "\n",
    "$$\\mu < \\mu_I$$\n",
    "$$\\mu > \\mu_I$$\n",
    "__<center>or</center>__\n",
    "$$\\mu \\ne \\mu_I$$\n",
    "\n",
    ">_In our circumstance, the __alternative hypothesis__ would be that congruent colors take either less time to identify  or more time to identify than incongruent colors._\n",
    "\n",
    "\n",
    "\n",
    "> Since we are not testing against a known value and our samples have not been chosen independently, we can rule out the use of a one-sample t-test and a two-sample t-test. \n",
    "\n",
    "> I will be using the __paired t-test__, as the data is structured such that we can compare the difference in time taken between congruent and incongruent sets for the same individuals - we can test a change in a single population. Namely, we are testing whether the experimental intervention of _changing the congruence of the colors of names_ affects the time taken to identify the color being named. \n",
    "\n",
    "> The following assumptions will be made about the data in order justify the use of the paired t-test:\n",
    "> 1. Each subject has independently performed the incongruent and congruent tests.\n",
    "> 2. Each subject has taken both of the tests, and our paired measurements are each taken from a single subject.\n",
    "> 3. The sampling distribution of the difference between the means is normally distributed. \n",
    "\n",
    "<font color='darkgreen'>3. \"Report some descriptive statistics regarding this dataset. Include at least one measure of central tendency and at least one measure of variability.\"</font>\n",
    ">The mean for the congruent set is ~14.05 seconds. The mean ($\\bar x$) for the incongruent set is ~22.02 seconds. The median $(Md)$ for the congruent set is ~14.36 seconds, while the median of the incongruent set is ~21.02 seconds.\n",
    ">*The five-number summary for each would be:*\n",
    "\n",
    "| $f(x)$ | Congruent | Incongruent |\n",
    "| --- | --- | --- |\n",
    "| $min$ | ~8.63 | ~15.69 | \n",
    "| $Q1$ | ~11.90 | ~18.72 |\n",
    "| $Q2 (Md)$ | ~14.36 | ~21.02 |\n",
    "| $Q3$ | ~16.20 | ~24.05 |\n",
    "| $max$ | ~22.33 | ~35.26 |\n",
    "\n",
    ">with the range of each set being ~13.70 seconds *(congruent)* and ~19.57 seconds *incongruent*, and the standard deviation being ~3.56 *(congruent)* and ~4.80 *(incongruent)*.\n",
    "\n",
    "<font color='darkgreen'>4. \"Provide one or two visualizations that show the distribution of the sample data. Write one or two sentences noting what you observe about the plot or plots.\"</font>\n"
   ]
  },
  {
   "cell_type": "code",
   "execution_count": 2,
   "id": "c734a921",
   "metadata": {},
   "outputs": [
    {
     "data": {
      "image/png": "[encoded data removed]",
      "text/plain": [
       "<Figure size 432x288 with 1 Axes>"
      ]
     },
     "metadata": {
      "needs_background": "light"
     },
     "output_type": "display_data"
    }
   ],
   "source": [
    "fig,ax=plt.subplots()\n",
    "ax.set_xlabel(\"Seconds taken\")\n",
    "ax.set_ylabel(\"Instances\")\n",
    "\n",
    "plt.hist(df['Incongruent'], bins = 6, alpha=0.7, color=\"blue\", label='Incongruent')\n",
    "plt.hist(df['Congruent'], bins = 6, alpha=0.7, color=\"red\", label='Congruent')\n",
    "plt.legend()\n",
    "plt.show()\n"
   ]
  },
  {
   "cell_type": "markdown",
   "id": "0b5519b7",
   "metadata": {},
   "source": [
    "In this histogram, we can see:\n",
    "* The majority of subjects took less than 15 seconds to finish the congruent set.\n",
    "* Nobody finished the incongruent set in under 15 seconds. \n",
    "* A handful of the worst-performing subjects took longer to complete the congruent set than the top-performing subjects in the incongruent set. \n",
    "* At least one subject took as long to identify the congruent set as the mode of the incongruent set."
   ]
  },
  {
   "cell_type": "code",
   "execution_count": 3,
   "id": "df6cee54",
   "metadata": {},
   "outputs": [
    {
     "data": {
      "image/png": "[encoded data removed]",
      "text/plain": [
       "<Figure size 432x288 with 1 Axes>"
      ]
     },
     "metadata": {
      "needs_background": "light"
     },
     "output_type": "display_data"
    }
   ],
   "source": [
    "fig,ax=plt.subplots()\n",
    "ax.set_xlabel(\"Seconds taken\")\n",
    "ax.set_ylabel(\"Instances\")\n",
    "\n",
    "plt.bar(range(len(df['Incongruent'])),df['Incongruent'], alpha = 0.7, color='blue', label='Incongruent')\n",
    "plt.bar(range(len(df['Congruent'])),df['Congruent'], alpha = 0.7, color='red', label='Congruent')\n",
    "ax.set_xlabel('Subjects')\n",
    "ax.set_ylabel('Seconds taken')\n",
    "plt.tick_params(axis='x', bottom=False, labelbottom=False)\n",
    "plt.legend()\n",
    "plt.show()"
   ]
  },
  {
   "cell_type": "markdown",
   "id": "da790f8f",
   "metadata": {},
   "source": [
    "Here, we can see:\n",
    "* Every subject performed better on the congruent set than on the incongruent set.\n",
    "* The degree of improvement between sets is not universal. Some subjects performed only marginally better on the congruent set, while others completed the set in as little as half the time."
   ]
  },
  {
   "cell_type": "markdown",
   "id": "11897b1c",
   "metadata": {},
   "source": [
    "<font color='darkgreen'>5. \"Now, perform the statistical test and report your results. What is your confidence level and your critical statistic value? Do you reject the null hypothesis or fail to reject it? Come to a conclusion in terms of the experiment task. Did the results match up with your expectations?\" </font>\n",
    "\n",
    "__Confidence Level:__ $\\alpha = 0.05$ "
   ]
  },
  {
   "cell_type": "code",
   "execution_count": 4,
   "id": "636ab456",
   "metadata": {},
   "outputs": [
    {
     "name": "stdout",
     "output_type": "stream",
     "text": [
      "Average difference:7.964791666666664\n",
      "Standard deviation: 4.864826910359054\n",
      "Standard Error: 1.3001796817515432\n",
      "Test Statistic: 6.12591611640697\n"
     ]
    }
   ],
   "source": [
    "\n",
    "#Calculate mean difference\n",
    "difference_df = df['Incongruent'] - df['Congruent']\n",
    "mean_difference = np.mean(difference_df)\n",
    "print('Average difference:' + str(mean_difference))\n",
    "\n",
    "std = np.std(difference_df,ddof=1)\n",
    "print('Standard deviation: ' + str(std))\n",
    "\n",
    "#calculate standard error\n",
    "standard_error = std / (14 ** 0.5)\n",
    "print('Standard Error: ' + str(standard_error))\n",
    "\n",
    "#calculate test statistic\n",
    "test_statistic = mean_difference / standard_error\n",
    "print('Test Statistic: ' + str(test_statistic))\n"
   ]
  },
  {
   "cell_type": "markdown",
   "id": "adc715a9",
   "metadata": {},
   "source": [
    "\n",
    "***\n",
    "__Test Statistic:__ $t \\approx 6.258$\n",
    "\n",
    "\n",
    "\n",
    "\n",
    "$$\\overline{x_d} \\approx 7.965$$\n",
    "\n",
    "$$SE = \\frac{s_d}{\\sqrt{n}} = \\frac{4.864}{14} \\approx 1.300$$\n",
    "\n",
    "$$t = \\frac{\\overline{x_d}}{SE} \\approx \\frac{7.965}{1.273} \\approx 6.126$$\n",
    "***\n",
    "$$d_f = n - 1 = 14 - 1 = 13$$\n",
    "\n",
    "__Critical Value__: $t_{0.05,13} = 2.160369$* \n",
    "\n",
    ">*calculated for two-tailed test with https://goodcalculators.com/student-t-value-calculator/\n",
    "***\n",
    "\n",
    "__In summation:__\n",
    "\n",
    ">$ \\alpha = 0.05$\n",
    "\n",
    ">$ \\overline{x_d} = 7.965$\n",
    "\n",
    ">$ SE = 1.300 $\n",
    "\n",
    ">$ t = 6.126$\n",
    "\n",
    ">$d_f = 13$\n",
    "\n",
    ">$t_{0.05,13} = 2.160369$ \n",
    "\n",
    "***\n",
    "\n",
    "Because $6.126 > 2.160369$, we can reject the null hypothesis.\n",
    "\n",
    "\n",
    "In addition, the __p-value__* is less than 0.001, so we can say that the difference is extremely statistically significant.\n",
    "> *calculated with https://www.graphpad.com/quickcalcs/pValue2/ \n",
    "\n",
    "\n",
    "\n",
    "__Conclusion:__ Because our t-value is greater than our critical value and is positive, we can say there is a positive correlation between the congruence of the words and the time it takes to correctly name the colors. In other words, it seems to take longer to identify the color of words when the word itself is incongruent with the color it is drawn in.\n",
    "\n",
    "The results of the experiment did, in fact, match match my expectations. It was an intuitive assumption that there would be a conflict between the color of the words and what they said for the congruent set. Because the colors are harder to identify with the conflicting information, I would assume they would take longer."
   ]
  }
 ],
 "metadata": {
  "kernelspec": {
   "display_name": "Python 3",
   "language": "python",
   "name": "python3"
  },
  "language_info": {
   "codemirror_mode": {
    "name": "ipython",
    "version": 3
   },
   "file_extension": ".py",
   "mimetype": "text/x-python",
   "name": "python",
   "nbconvert_exporter": "python",
   "pygments_lexer": "ipython3",
   "version": "3.8.8"
  }
 },
 "nbformat": 4,
 "nbformat_minor": 5
}
